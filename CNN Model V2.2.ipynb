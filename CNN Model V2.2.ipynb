{
 "cells": [
  {
   "cell_type": "code",
   "execution_count": 121,
   "id": "88dd5c99",
   "metadata": {},
   "outputs": [],
   "source": [
    "# Standard libraries\n",
    "import numpy as np\n",
    "import pandas as pd\n",
    "import matplotlib.pyplot as plt\n",
    "\n",
    "import tensorflow as tf\n",
    "from tensorflow.keras import layers\n",
    "from tensorflow.keras.callbacks import EarlyStopping\n",
    "from tensorflow.keras.models import load_model\n",
    "\n",
    "from sklearn.model_selection import train_test_split\n",
    "from sklearn.metrics import classification_report\n",
    "from sklearn.metrics import confusion_matrix\n",
    "\n",
    "# handles image data\n",
    "import cv2\n",
    "\n",
    "# handles h5 file containing the data \n",
    "import h5py\n",
    "\n",
    "# Use for creating directories to save images (Will use in the future but not now)\n",
    "import os"
   ]
  },
  {
   "cell_type": "code",
   "execution_count": null,
   "id": "0a39f5db",
   "metadata": {},
   "outputs": [],
   "source": []
  },
  {
   "cell_type": "code",
   "execution_count": 14,
   "id": "ed81295f",
   "metadata": {},
   "outputs": [],
   "source": [
    "f = h5py.File('Data/matchingtDATASET_train_32.h5', mode = 'r+')"
   ]
  },
  {
   "cell_type": "code",
   "execution_count": 15,
   "id": "e0f6156b",
   "metadata": {},
   "outputs": [
    {
     "data": {
      "text/plain": [
       "<KeysViewHDF5 ['color', 'cut', 'good', 'hole', 'metal_contamination', 'thread']>"
      ]
     },
     "execution_count": 15,
     "metadata": {},
     "output_type": "execute_result"
    }
   ],
   "source": [
    "f.keys()"
   ]
  },
  {
   "cell_type": "code",
   "execution_count": null,
   "id": "ee6b2cfc",
   "metadata": {},
   "outputs": [],
   "source": []
  },
  {
   "cell_type": "markdown",
   "id": "adc74101",
   "metadata": {},
   "source": [
    "## Get the data"
   ]
  },
  {
   "cell_type": "code",
   "execution_count": 16,
   "id": "1bb77df2",
   "metadata": {},
   "outputs": [],
   "source": [
    "# There does not seem to be more pythonic way to write this code\n",
    "\n",
    "data = f['color']['angle0']\n",
    "\n",
    "# We exclude 'angle0 as it is assigned in data'\n",
    "angles = ['angle100', 'angle120', 'angle140', 'angle20', 'angle40', 'angle60', 'angle80']\n",
    "\n",
    "for angle in angles:\n",
    "    data = np.concatenate((data, f['color'][angle][()]))\n",
    "    \n",
    "\n",
    "# Redefine angles for concatenation \n",
    "angles = ['angle0', 'angle100', 'angle120', 'angle140', 'angle20', 'angle40', 'angle60', 'angle80']\n",
    "\n",
    "# Get the data \n",
    "for name in ['cut', 'good', 'hole', 'metal_contamination', 'thread']:\n",
    "    \n",
    "    for angle in angles:\n",
    "        \n",
    "        data = np.concatenate( (data, f[name][angle][()]) )\n"
   ]
  },
  {
   "cell_type": "code",
   "execution_count": 17,
   "id": "d70c8560",
   "metadata": {},
   "outputs": [
    {
     "data": {
      "text/plain": [
       "(72000, 1, 32, 32)"
      ]
     },
     "execution_count": 17,
     "metadata": {},
     "output_type": "execute_result"
    }
   ],
   "source": [
    "data.shape"
   ]
  },
  {
   "cell_type": "code",
   "execution_count": 18,
   "id": "f0226c21",
   "metadata": {},
   "outputs": [],
   "source": [
    "# Change the shape of the data to (72000, 32, 32, 1) instead of (72000, 1, 32, 32)\n",
    "data = data[:, 0, :, :]\n",
    "data = data[:, :, :, np.newaxis]"
   ]
  },
  {
   "cell_type": "code",
   "execution_count": 19,
   "id": "9d6e7aba",
   "metadata": {},
   "outputs": [
    {
     "data": {
      "text/plain": [
       "(72000, 32, 32, 1)"
      ]
     },
     "execution_count": 19,
     "metadata": {},
     "output_type": "execute_result"
    }
   ],
   "source": [
    "data.shape"
   ]
  },
  {
   "cell_type": "code",
   "execution_count": 20,
   "id": "160db606",
   "metadata": {},
   "outputs": [],
   "source": [
    "# Prepare labels of the data \n",
    "y = np.array([])\n",
    "\n",
    "for i in [0, 1, 2, 3, 4, 5]:\n",
    "    \n",
    "    y = np.append(y, np.tile(i, 12000))"
   ]
  },
  {
   "cell_type": "code",
   "execution_count": 21,
   "id": "22d57b81",
   "metadata": {},
   "outputs": [],
   "source": [
    "Xtrain, Xtest, ytrain, ytest = train_test_split(data, y) "
   ]
  },
  {
   "cell_type": "code",
   "execution_count": 22,
   "id": "0f3a2acd",
   "metadata": {},
   "outputs": [
    {
     "data": {
      "text/plain": [
       "(54000, 32, 32, 1)"
      ]
     },
     "execution_count": 22,
     "metadata": {},
     "output_type": "execute_result"
    }
   ],
   "source": [
    "Xtrain.shape"
   ]
  },
  {
   "cell_type": "code",
   "execution_count": 23,
   "id": "53393a3a",
   "metadata": {},
   "outputs": [
    {
     "data": {
      "text/plain": [
       "(18000, 32, 32, 1)"
      ]
     },
     "execution_count": 23,
     "metadata": {},
     "output_type": "execute_result"
    }
   ],
   "source": [
    "Xtest.shape"
   ]
  },
  {
   "cell_type": "markdown",
   "id": "b09a6b0b",
   "metadata": {},
   "source": [
    "## Machine Learning"
   ]
  },
  {
   "cell_type": "code",
   "execution_count": 27,
   "id": "e44037d6",
   "metadata": {},
   "outputs": [],
   "source": [
    "# Create the model\n",
    "cnnModel = tf.keras.Sequential([\n",
    "    layers.Conv2D(32, (3, 3), input_shape=(32, 32, 1), activation = 'relu'),\n",
    "    layers.MaxPooling2D((2, 2)),\n",
    "    layers.Conv2D(32, (3, 3), activation = 'relu'),\n",
    "    layers.MaxPooling2D((2, 2)),\n",
    "    layers.Flatten(),\n",
    "    layers.Dense(100, activation = 'relu'),\n",
    "    layers.Dense(6, activation = 'softmax')])\n",
    "\n"
   ]
  },
  {
   "cell_type": "code",
   "execution_count": 28,
   "id": "0ed7e2c3",
   "metadata": {},
   "outputs": [],
   "source": [
    "optimizer = tf.keras.optimizers.Adam(0.0001)\n",
    "\n",
    "cnnModel.compile(optimizer = optimizer,\n",
    "                loss = 'sparse_categorical_crossentropy',\n",
    "                metrics = ['accuracy'])"
   ]
  },
  {
   "cell_type": "code",
   "execution_count": 30,
   "id": "34a050b1",
   "metadata": {
    "scrolled": true
   },
   "outputs": [
    {
     "name": "stdout",
     "output_type": "stream",
     "text": [
      "Epoch 1/100\n",
      "1688/1688 [==============================] - 30s 18ms/step - loss: 1.4405 - accuracy: 0.4004 - val_loss: 1.2960 - val_accuracy: 0.4788\n",
      "Epoch 2/100\n",
      "1688/1688 [==============================] - 28s 17ms/step - loss: 1.2475 - accuracy: 0.4992 - val_loss: 1.1987 - val_accuracy: 0.5096\n",
      "Epoch 3/100\n",
      "1688/1688 [==============================] - 29s 17ms/step - loss: 1.1790 - accuracy: 0.5281 - val_loss: 1.1560 - val_accuracy: 0.5374\n",
      "Epoch 4/100\n",
      "1688/1688 [==============================] - 29s 17ms/step - loss: 1.1386 - accuracy: 0.5449 - val_loss: 1.1140 - val_accuracy: 0.5531\n",
      "Epoch 5/100\n",
      "1688/1688 [==============================] - 29s 17ms/step - loss: 1.1083 - accuracy: 0.5584 - val_loss: 1.1040 - val_accuracy: 0.5565\n",
      "Epoch 6/100\n",
      "1688/1688 [==============================] - 28s 17ms/step - loss: 1.0842 - accuracy: 0.5661 - val_loss: 1.0732 - val_accuracy: 0.5742\n",
      "Epoch 7/100\n",
      "1688/1688 [==============================] - 29s 17ms/step - loss: 1.0612 - accuracy: 0.5778 - val_loss: 1.0544 - val_accuracy: 0.5754\n",
      "Epoch 8/100\n",
      "1688/1688 [==============================] - 29s 17ms/step - loss: 1.0411 - accuracy: 0.5876 - val_loss: 1.0269 - val_accuracy: 0.5911\n",
      "Epoch 9/100\n",
      "1688/1688 [==============================] - 28s 17ms/step - loss: 1.0235 - accuracy: 0.5949 - val_loss: 1.0132 - val_accuracy: 0.5996\n",
      "Epoch 10/100\n",
      "1688/1688 [==============================] - 28s 16ms/step - loss: 1.0014 - accuracy: 0.6057 - val_loss: 0.9980 - val_accuracy: 0.6043\n",
      "Epoch 11/100\n",
      "1688/1688 [==============================] - 28s 17ms/step - loss: 0.9830 - accuracy: 0.6141 - val_loss: 0.9753 - val_accuracy: 0.6169\n",
      "Epoch 12/100\n",
      "1688/1688 [==============================] - 28s 17ms/step - loss: 0.9637 - accuracy: 0.6211 - val_loss: 1.0455 - val_accuracy: 0.5858\n",
      "Epoch 13/100\n",
      "1688/1688 [==============================] - 28s 17ms/step - loss: 0.9473 - accuracy: 0.6304 - val_loss: 0.9671 - val_accuracy: 0.6164\n",
      "Epoch 14/100\n",
      "1688/1688 [==============================] - 28s 16ms/step - loss: 0.9289 - accuracy: 0.6378 - val_loss: 0.9247 - val_accuracy: 0.6458\n",
      "Epoch 15/100\n",
      "1688/1688 [==============================] - 29s 17ms/step - loss: 0.9129 - accuracy: 0.6447 - val_loss: 0.9162 - val_accuracy: 0.6450\n",
      "Epoch 16/100\n",
      "1688/1688 [==============================] - 28s 17ms/step - loss: 0.8957 - accuracy: 0.6550 - val_loss: 0.9033 - val_accuracy: 0.6483\n",
      "Epoch 17/100\n",
      "1688/1688 [==============================] - 28s 17ms/step - loss: 0.8793 - accuracy: 0.6579 - val_loss: 0.8853 - val_accuracy: 0.6516\n",
      "Epoch 18/100\n",
      "1688/1688 [==============================] - 28s 17ms/step - loss: 0.8629 - accuracy: 0.6656 - val_loss: 0.8710 - val_accuracy: 0.6598\n",
      "Epoch 19/100\n",
      "1688/1688 [==============================] - 28s 17ms/step - loss: 0.8448 - accuracy: 0.6745 - val_loss: 0.8735 - val_accuracy: 0.6661\n",
      "Epoch 20/100\n",
      "1688/1688 [==============================] - 28s 16ms/step - loss: 0.8313 - accuracy: 0.6787 - val_loss: 0.8338 - val_accuracy: 0.6763\n",
      "Epoch 21/100\n",
      "1688/1688 [==============================] - 28s 16ms/step - loss: 0.8159 - accuracy: 0.6872 - val_loss: 0.8308 - val_accuracy: 0.6811\n",
      "Epoch 22/100\n",
      "1688/1688 [==============================] - 28s 17ms/step - loss: 0.8003 - accuracy: 0.6928 - val_loss: 0.8337 - val_accuracy: 0.6723\n",
      "Epoch 23/100\n",
      "1688/1688 [==============================] - 29s 17ms/step - loss: 0.7864 - accuracy: 0.6998 - val_loss: 0.8046 - val_accuracy: 0.6833\n",
      "Epoch 24/100\n",
      "1688/1688 [==============================] - 31s 18ms/step - loss: 0.7708 - accuracy: 0.7054 - val_loss: 0.8329 - val_accuracy: 0.6813\n",
      "Epoch 25/100\n",
      "1688/1688 [==============================] - 29s 17ms/step - loss: 0.7580 - accuracy: 0.7118 - val_loss: 0.7627 - val_accuracy: 0.7051\n",
      "Epoch 26/100\n",
      "1688/1688 [==============================] - 29s 17ms/step - loss: 0.7407 - accuracy: 0.7195 - val_loss: 0.7544 - val_accuracy: 0.7056\n",
      "Epoch 27/100\n",
      "1688/1688 [==============================] - 29s 17ms/step - loss: 0.7276 - accuracy: 0.7279 - val_loss: 0.7795 - val_accuracy: 0.7024\n",
      "Epoch 28/100\n",
      "1688/1688 [==============================] - 28s 17ms/step - loss: 0.7122 - accuracy: 0.7327 - val_loss: 0.7277 - val_accuracy: 0.7213\n",
      "Epoch 29/100\n",
      "1688/1688 [==============================] - 28s 16ms/step - loss: 0.7005 - accuracy: 0.7370 - val_loss: 0.7338 - val_accuracy: 0.7204\n",
      "Epoch 30/100\n",
      "1688/1688 [==============================] - 28s 16ms/step - loss: 0.6856 - accuracy: 0.7431 - val_loss: 0.7428 - val_accuracy: 0.7043\n",
      "Epoch 31/100\n",
      "1688/1688 [==============================] - 31s 18ms/step - loss: 0.6727 - accuracy: 0.7502 - val_loss: 0.7255 - val_accuracy: 0.7149\n",
      "Epoch 32/100\n",
      "1688/1688 [==============================] - 34s 20ms/step - loss: 0.6546 - accuracy: 0.7559 - val_loss: 0.6884 - val_accuracy: 0.7334\n",
      "Epoch 33/100\n",
      "1688/1688 [==============================] - 32s 19ms/step - loss: 0.6422 - accuracy: 0.7644 - val_loss: 0.6788 - val_accuracy: 0.7391\n",
      "Epoch 34/100\n",
      "1688/1688 [==============================] - 28s 16ms/step - loss: 0.6274 - accuracy: 0.7685 - val_loss: 0.6780 - val_accuracy: 0.7346\n",
      "Epoch 35/100\n",
      "1688/1688 [==============================] - 27s 16ms/step - loss: 0.6149 - accuracy: 0.7732 - val_loss: 0.6450 - val_accuracy: 0.7549\n",
      "Epoch 36/100\n",
      "1688/1688 [==============================] - 29s 17ms/step - loss: 0.6030 - accuracy: 0.7793 - val_loss: 0.6393 - val_accuracy: 0.7574\n",
      "Epoch 37/100\n",
      "1688/1688 [==============================] - 27s 16ms/step - loss: 0.5880 - accuracy: 0.7841 - val_loss: 0.6824 - val_accuracy: 0.7256\n",
      "Epoch 38/100\n",
      "1688/1688 [==============================] - 27s 16ms/step - loss: 0.5764 - accuracy: 0.7901 - val_loss: 0.6372 - val_accuracy: 0.7542\n",
      "Epoch 39/100\n",
      "1688/1688 [==============================] - 28s 16ms/step - loss: 0.5638 - accuracy: 0.7950 - val_loss: 0.6193 - val_accuracy: 0.7621\n",
      "Epoch 40/100\n",
      "1688/1688 [==============================] - 31s 19ms/step - loss: 0.5497 - accuracy: 0.8009 - val_loss: 0.6000 - val_accuracy: 0.7732\n",
      "Epoch 41/100\n",
      "1688/1688 [==============================] - 32s 19ms/step - loss: 0.5359 - accuracy: 0.8058 - val_loss: 0.5751 - val_accuracy: 0.7842\n",
      "Epoch 42/100\n",
      "1688/1688 [==============================] - 38s 23ms/step - loss: 0.5239 - accuracy: 0.8112 - val_loss: 0.6204 - val_accuracy: 0.7612\n",
      "Epoch 43/100\n",
      "1688/1688 [==============================] - 37s 22ms/step - loss: 0.5108 - accuracy: 0.8162 - val_loss: 0.5984 - val_accuracy: 0.7742\n",
      "Epoch 44/100\n",
      "1688/1688 [==============================] - 37s 22ms/step - loss: 0.5009 - accuracy: 0.8213 - val_loss: 0.5381 - val_accuracy: 0.8042\n",
      "Epoch 45/100\n",
      "1688/1688 [==============================] - 38s 22ms/step - loss: 0.4853 - accuracy: 0.8279 - val_loss: 0.5170 - val_accuracy: 0.8104\n",
      "Epoch 46/100\n",
      "1688/1688 [==============================] - 37s 22ms/step - loss: 0.4728 - accuracy: 0.8332 - val_loss: 0.5236 - val_accuracy: 0.8032\n",
      "Epoch 47/100\n",
      "1688/1688 [==============================] - 38s 22ms/step - loss: 0.4657 - accuracy: 0.8355 - val_loss: 0.5197 - val_accuracy: 0.8046\n",
      "Epoch 48/100\n",
      "1688/1688 [==============================] - 38s 23ms/step - loss: 0.4510 - accuracy: 0.8425 - val_loss: 0.5042 - val_accuracy: 0.8114\n",
      "Epoch 49/100\n",
      "1688/1688 [==============================] - 37s 22ms/step - loss: 0.4361 - accuracy: 0.8498 - val_loss: 0.5376 - val_accuracy: 0.7917\n",
      "Epoch 50/100\n",
      "1688/1688 [==============================] - 37s 22ms/step - loss: 0.4274 - accuracy: 0.8514 - val_loss: 0.4776 - val_accuracy: 0.8249\n",
      "Epoch 51/100\n",
      "1688/1688 [==============================] - 37s 22ms/step - loss: 0.4139 - accuracy: 0.8558 - val_loss: 0.4540 - val_accuracy: 0.8412\n",
      "Epoch 52/100\n",
      "1688/1688 [==============================] - 37s 22ms/step - loss: 0.4021 - accuracy: 0.8611 - val_loss: 0.4354 - val_accuracy: 0.8465\n",
      "Epoch 53/100\n",
      "1688/1688 [==============================] - 38s 23ms/step - loss: 0.3902 - accuracy: 0.8659 - val_loss: 0.4511 - val_accuracy: 0.8377\n",
      "Epoch 54/100\n",
      "1688/1688 [==============================] - 37s 22ms/step - loss: 0.3781 - accuracy: 0.8713 - val_loss: 0.4458 - val_accuracy: 0.8374\n",
      "Epoch 55/100\n",
      "1688/1688 [==============================] - 37s 22ms/step - loss: 0.3691 - accuracy: 0.8752 - val_loss: 0.4249 - val_accuracy: 0.8458\n",
      "Epoch 56/100\n",
      "1688/1688 [==============================] - 30s 18ms/step - loss: 0.3548 - accuracy: 0.8804 - val_loss: 0.3971 - val_accuracy: 0.8663\n",
      "Epoch 57/100\n",
      "1688/1688 [==============================] - 31s 18ms/step - loss: 0.3464 - accuracy: 0.8848 - val_loss: 0.3954 - val_accuracy: 0.8606\n",
      "Epoch 58/100\n",
      "1688/1688 [==============================] - 31s 19ms/step - loss: 0.3334 - accuracy: 0.8905 - val_loss: 0.3716 - val_accuracy: 0.8757\n",
      "Epoch 59/100\n",
      "1688/1688 [==============================] - 35s 21ms/step - loss: 0.3239 - accuracy: 0.8946 - val_loss: 0.3712 - val_accuracy: 0.8762\n",
      "Epoch 60/100\n",
      "1688/1688 [==============================] - 34s 20ms/step - loss: 0.3129 - accuracy: 0.8989 - val_loss: 0.3516 - val_accuracy: 0.8815\n",
      "Epoch 61/100\n",
      "1688/1688 [==============================] - 30s 18ms/step - loss: 0.3020 - accuracy: 0.9033 - val_loss: 0.3622 - val_accuracy: 0.8782\n",
      "Epoch 62/100\n",
      "1688/1688 [==============================] - 30s 18ms/step - loss: 0.2906 - accuracy: 0.9087 - val_loss: 0.3294 - val_accuracy: 0.8921\n",
      "Epoch 63/100\n",
      "1688/1688 [==============================] - 30s 18ms/step - loss: 0.2809 - accuracy: 0.9131 - val_loss: 0.3241 - val_accuracy: 0.8987\n",
      "Epoch 64/100\n",
      "1688/1688 [==============================] - 35s 21ms/step - loss: 0.2726 - accuracy: 0.9162 - val_loss: 0.3079 - val_accuracy: 0.9032\n",
      "Epoch 65/100\n",
      "1688/1688 [==============================] - 38s 23ms/step - loss: 0.2630 - accuracy: 0.9201 - val_loss: 0.3159 - val_accuracy: 0.8913\n",
      "Epoch 66/100\n",
      "1688/1688 [==============================] - 38s 23ms/step - loss: 0.2509 - accuracy: 0.9253 - val_loss: 0.2965 - val_accuracy: 0.9048\n",
      "Epoch 67/100\n",
      "1688/1688 [==============================] - 37s 22ms/step - loss: 0.2439 - accuracy: 0.9279 - val_loss: 0.2771 - val_accuracy: 0.9147\n",
      "Epoch 68/100\n",
      "1688/1688 [==============================] - 34s 20ms/step - loss: 0.2315 - accuracy: 0.9325 - val_loss: 0.2721 - val_accuracy: 0.9149\n",
      "Epoch 69/100\n",
      "1688/1688 [==============================] - 35s 21ms/step - loss: 0.2278 - accuracy: 0.9333 - val_loss: 0.2732 - val_accuracy: 0.9132\n",
      "Epoch 70/100\n",
      "1688/1688 [==============================] - 36s 21ms/step - loss: 0.2145 - accuracy: 0.9397 - val_loss: 0.2581 - val_accuracy: 0.9202\n",
      "Epoch 71/100\n",
      "1688/1688 [==============================] - 34s 20ms/step - loss: 0.2053 - accuracy: 0.9421 - val_loss: 0.2408 - val_accuracy: 0.9291\n",
      "Epoch 72/100\n",
      "1688/1688 [==============================] - 36s 21ms/step - loss: 0.1977 - accuracy: 0.9459 - val_loss: 0.2567 - val_accuracy: 0.9203\n",
      "Epoch 73/100\n",
      "1688/1688 [==============================] - 35s 21ms/step - loss: 0.1890 - accuracy: 0.9496 - val_loss: 0.2330 - val_accuracy: 0.9305\n",
      "Epoch 74/100\n",
      "1688/1688 [==============================] - 34s 20ms/step - loss: 0.1819 - accuracy: 0.9524 - val_loss: 0.2118 - val_accuracy: 0.9429\n",
      "Epoch 75/100\n",
      "1688/1688 [==============================] - 39s 23ms/step - loss: 0.1699 - accuracy: 0.9573 - val_loss: 0.2083 - val_accuracy: 0.9441\n",
      "Epoch 76/100\n",
      "1688/1688 [==============================] - 36s 21ms/step - loss: 0.1646 - accuracy: 0.9589 - val_loss: 0.1913 - val_accuracy: 0.9493\n",
      "Epoch 77/100\n",
      "1688/1688 [==============================] - 33s 19ms/step - loss: 0.1564 - accuracy: 0.9611 - val_loss: 0.1990 - val_accuracy: 0.9450\n",
      "Epoch 78/100\n",
      "1688/1688 [==============================] - 37s 22ms/step - loss: 0.1460 - accuracy: 0.9656 - val_loss: 0.1779 - val_accuracy: 0.9530\n",
      "Epoch 79/100\n",
      "1688/1688 [==============================] - 37s 22ms/step - loss: 0.1403 - accuracy: 0.9670 - val_loss: 0.1674 - val_accuracy: 0.9571\n",
      "Epoch 80/100\n",
      "1688/1688 [==============================] - 37s 22ms/step - loss: 0.1340 - accuracy: 0.9696 - val_loss: 0.1758 - val_accuracy: 0.9521\n",
      "Epoch 81/100\n",
      "1688/1688 [==============================] - 38s 22ms/step - loss: 0.1249 - accuracy: 0.9731 - val_loss: 0.1465 - val_accuracy: 0.9663\n",
      "Epoch 82/100\n",
      "1688/1688 [==============================] - 35s 21ms/step - loss: 0.1210 - accuracy: 0.9740 - val_loss: 0.1496 - val_accuracy: 0.9634\n",
      "Epoch 83/100\n",
      "1688/1688 [==============================] - 38s 22ms/step - loss: 0.1134 - accuracy: 0.9756 - val_loss: 0.1312 - val_accuracy: 0.9744\n",
      "Epoch 84/100\n",
      "1688/1688 [==============================] - 37s 22ms/step - loss: 0.1069 - accuracy: 0.9786 - val_loss: 0.1240 - val_accuracy: 0.9729\n",
      "Epoch 85/100\n",
      "1688/1688 [==============================] - 38s 22ms/step - loss: 0.1018 - accuracy: 0.9808 - val_loss: 0.1453 - val_accuracy: 0.9607\n",
      "Epoch 86/100\n",
      "1688/1688 [==============================] - 39s 23ms/step - loss: 0.0955 - accuracy: 0.9819 - val_loss: 0.1135 - val_accuracy: 0.9756\n",
      "Epoch 87/100\n",
      "1688/1688 [==============================] - 37s 22ms/step - loss: 0.0914 - accuracy: 0.9828 - val_loss: 0.1146 - val_accuracy: 0.9740\n",
      "Epoch 88/100\n",
      "1688/1688 [==============================] - 37s 22ms/step - loss: 0.0840 - accuracy: 0.9852 - val_loss: 0.0945 - val_accuracy: 0.9838\n",
      "Epoch 89/100\n",
      "1688/1688 [==============================] - 37s 22ms/step - loss: 0.0784 - accuracy: 0.9872 - val_loss: 0.1224 - val_accuracy: 0.9648\n",
      "Epoch 90/100\n",
      "1688/1688 [==============================] - 39s 23ms/step - loss: 0.0747 - accuracy: 0.9879 - val_loss: 0.0893 - val_accuracy: 0.9823\n",
      "Epoch 91/100\n",
      "1688/1688 [==============================] - 39s 23ms/step - loss: 0.0690 - accuracy: 0.9899 - val_loss: 0.0798 - val_accuracy: 0.9888\n",
      "Epoch 92/100\n",
      "1688/1688 [==============================] - 38s 22ms/step - loss: 0.0660 - accuracy: 0.9901 - val_loss: 0.0723 - val_accuracy: 0.9891\n",
      "Epoch 93/100\n",
      "1688/1688 [==============================] - 37s 22ms/step - loss: 0.0589 - accuracy: 0.9918 - val_loss: 0.0737 - val_accuracy: 0.9859\n",
      "Epoch 94/100\n",
      "1688/1688 [==============================] - 39s 23ms/step - loss: 0.0584 - accuracy: 0.9920 - val_loss: 0.0834 - val_accuracy: 0.9816\n",
      "Epoch 95/100\n",
      "1688/1688 [==============================] - 39s 23ms/step - loss: 0.0518 - accuracy: 0.9936 - val_loss: 0.0673 - val_accuracy: 0.9891\n",
      "Epoch 96/100\n",
      "1688/1688 [==============================] - 38s 22ms/step - loss: 0.0486 - accuracy: 0.9943 - val_loss: 0.0652 - val_accuracy: 0.9888\n",
      "Epoch 97/100\n",
      "1688/1688 [==============================] - 39s 23ms/step - loss: 0.0480 - accuracy: 0.9939 - val_loss: 0.0688 - val_accuracy: 0.9890\n",
      "Epoch 98/100\n",
      "1688/1688 [==============================] - 38s 23ms/step - loss: 0.0440 - accuracy: 0.9950 - val_loss: 0.0446 - val_accuracy: 0.9948\n",
      "Epoch 99/100\n",
      "1688/1688 [==============================] - 38s 23ms/step - loss: 0.0378 - accuracy: 0.9968 - val_loss: 0.0393 - val_accuracy: 0.9967\n",
      "Epoch 100/100\n",
      "1688/1688 [==============================] - 38s 22ms/step - loss: 0.0382 - accuracy: 0.9962 - val_loss: 0.0370 - val_accuracy: 0.9977\n"
     ]
    }
   ],
   "source": [
    "early_stopper = EarlyStopping(patience=25)\n",
    "\n",
    "history = cnnModel.fit(x=Xtrain, y=ytrain,\n",
    "                       validation_data = (Xtest, ytest),\n",
    "                       epochs=100,\n",
    "                       callbacks = [early_stopper])"
   ]
  },
  {
   "cell_type": "code",
   "execution_count": 31,
   "id": "52f9f98a",
   "metadata": {},
   "outputs": [],
   "source": [
    "cnnModel.save(\"cnnModel.h5\")"
   ]
  },
  {
   "cell_type": "code",
   "execution_count": 32,
   "id": "cb7f0cec",
   "metadata": {},
   "outputs": [],
   "source": [
    "hist = pd.DataFrame(history.history)"
   ]
  },
  {
   "cell_type": "code",
   "execution_count": 118,
   "id": "789504c4",
   "metadata": {},
   "outputs": [
    {
     "data": {
      "text/html": [
       "<div>\n",
       "<style scoped>\n",
       "    .dataframe tbody tr th:only-of-type {\n",
       "        vertical-align: middle;\n",
       "    }\n",
       "\n",
       "    .dataframe tbody tr th {\n",
       "        vertical-align: top;\n",
       "    }\n",
       "\n",
       "    .dataframe thead th {\n",
       "        text-align: right;\n",
       "    }\n",
       "</style>\n",
       "<table border=\"1\" class=\"dataframe\">\n",
       "  <thead>\n",
       "    <tr style=\"text-align: right;\">\n",
       "      <th></th>\n",
       "      <th>loss</th>\n",
       "      <th>accuracy</th>\n",
       "      <th>val_loss</th>\n",
       "      <th>val_accuracy</th>\n",
       "    </tr>\n",
       "  </thead>\n",
       "  <tbody>\n",
       "    <tr>\n",
       "      <th>0</th>\n",
       "      <td>1.440467</td>\n",
       "      <td>0.400407</td>\n",
       "      <td>1.295969</td>\n",
       "      <td>0.478833</td>\n",
       "    </tr>\n",
       "    <tr>\n",
       "      <th>1</th>\n",
       "      <td>1.247531</td>\n",
       "      <td>0.499222</td>\n",
       "      <td>1.198701</td>\n",
       "      <td>0.509611</td>\n",
       "    </tr>\n",
       "    <tr>\n",
       "      <th>2</th>\n",
       "      <td>1.178993</td>\n",
       "      <td>0.528130</td>\n",
       "      <td>1.156049</td>\n",
       "      <td>0.537389</td>\n",
       "    </tr>\n",
       "    <tr>\n",
       "      <th>3</th>\n",
       "      <td>1.138563</td>\n",
       "      <td>0.544852</td>\n",
       "      <td>1.114034</td>\n",
       "      <td>0.553111</td>\n",
       "    </tr>\n",
       "    <tr>\n",
       "      <th>4</th>\n",
       "      <td>1.108322</td>\n",
       "      <td>0.558370</td>\n",
       "      <td>1.103979</td>\n",
       "      <td>0.556500</td>\n",
       "    </tr>\n",
       "    <tr>\n",
       "      <th>...</th>\n",
       "      <td>...</td>\n",
       "      <td>...</td>\n",
       "      <td>...</td>\n",
       "      <td>...</td>\n",
       "    </tr>\n",
       "    <tr>\n",
       "      <th>95</th>\n",
       "      <td>0.048622</td>\n",
       "      <td>0.994296</td>\n",
       "      <td>0.065185</td>\n",
       "      <td>0.988833</td>\n",
       "    </tr>\n",
       "    <tr>\n",
       "      <th>96</th>\n",
       "      <td>0.047978</td>\n",
       "      <td>0.993926</td>\n",
       "      <td>0.068849</td>\n",
       "      <td>0.989000</td>\n",
       "    </tr>\n",
       "    <tr>\n",
       "      <th>97</th>\n",
       "      <td>0.044007</td>\n",
       "      <td>0.995019</td>\n",
       "      <td>0.044606</td>\n",
       "      <td>0.994778</td>\n",
       "    </tr>\n",
       "    <tr>\n",
       "      <th>98</th>\n",
       "      <td>0.037794</td>\n",
       "      <td>0.996815</td>\n",
       "      <td>0.039270</td>\n",
       "      <td>0.996667</td>\n",
       "    </tr>\n",
       "    <tr>\n",
       "      <th>99</th>\n",
       "      <td>0.038242</td>\n",
       "      <td>0.996185</td>\n",
       "      <td>0.037024</td>\n",
       "      <td>0.997667</td>\n",
       "    </tr>\n",
       "  </tbody>\n",
       "</table>\n",
       "<p>100 rows × 4 columns</p>\n",
       "</div>"
      ],
      "text/plain": [
       "        loss  accuracy  val_loss  val_accuracy\n",
       "0   1.440467  0.400407  1.295969      0.478833\n",
       "1   1.247531  0.499222  1.198701      0.509611\n",
       "2   1.178993  0.528130  1.156049      0.537389\n",
       "3   1.138563  0.544852  1.114034      0.553111\n",
       "4   1.108322  0.558370  1.103979      0.556500\n",
       "..       ...       ...       ...           ...\n",
       "95  0.048622  0.994296  0.065185      0.988833\n",
       "96  0.047978  0.993926  0.068849      0.989000\n",
       "97  0.044007  0.995019  0.044606      0.994778\n",
       "98  0.037794  0.996815  0.039270      0.996667\n",
       "99  0.038242  0.996185  0.037024      0.997667\n",
       "\n",
       "[100 rows x 4 columns]"
      ]
     },
     "execution_count": 118,
     "metadata": {},
     "output_type": "execute_result"
    }
   ],
   "source": [
    "hist"
   ]
  },
  {
   "cell_type": "code",
   "execution_count": 34,
   "id": "8bdf32ef",
   "metadata": {},
   "outputs": [
    {
     "data": {
      "text/plain": [
       "[<matplotlib.lines.Line2D at 0x27638ef8550>]"
      ]
     },
     "execution_count": 34,
     "metadata": {},
     "output_type": "execute_result"
    },
    {
     "data": {
      "image/png": "[encoded data removed]",
      "text/plain": [
       "<Figure size 720x432 with 1 Axes>"
      ]
     },
     "metadata": {
      "needs_background": "light"
     },
     "output_type": "display_data"
    }
   ],
   "source": [
    "plt.figure(figsize=(10, 6))\n",
    "plt.plot(hist['accuracy'], color ='red')"
   ]
  },
  {
   "cell_type": "code",
   "execution_count": 35,
   "id": "20e407be",
   "metadata": {},
   "outputs": [
    {
     "data": {
      "text/plain": [
       "[<matplotlib.lines.Line2D at 0x27639641130>]"
      ]
     },
     "execution_count": 35,
     "metadata": {},
     "output_type": "execute_result"
    },
    {
     "data": {
      "image/png": "[encoded data removed]",
      "text/plain": [
       "<Figure size 720x432 with 1 Axes>"
      ]
     },
     "metadata": {
      "needs_background": "light"
     },
     "output_type": "display_data"
    }
   ],
   "source": [
    "plt.figure(figsize=(10, 6))\n",
    "plt.plot(hist['val_accuracy'], color ='green')"
   ]
  },
  {
   "cell_type": "code",
   "execution_count": null,
   "id": "50d549c0",
   "metadata": {},
   "outputs": [],
   "source": []
  },
  {
   "cell_type": "code",
   "execution_count": null,
   "id": "b191a577",
   "metadata": {},
   "outputs": [],
   "source": [
    "# We don't know exactly how the data was split meaning we can't get  classification report"
   ]
  },
  {
   "cell_type": "markdown",
   "id": "28f1fcbe",
   "metadata": {},
   "source": [
    "## Model Evaluation"
   ]
  },
  {
   "cell_type": "code",
   "execution_count": 62,
   "id": "66f5662d",
   "metadata": {},
   "outputs": [],
   "source": [
    "train_pred = np.argmax(cnnModel.predict(Xtrain), axis=1)"
   ]
  },
  {
   "cell_type": "code",
   "execution_count": 117,
   "id": "f99f5a39",
   "metadata": {},
   "outputs": [
    {
     "name": "stdout",
     "output_type": "stream",
     "text": [
      "              precision    recall  f1-score   support\n",
      "\n",
      "         0.0      1.000     1.000     1.000      9031\n",
      "         1.0      1.000     1.000     1.000      8915\n",
      "         2.0      1.000     1.000     1.000      9032\n",
      "         3.0      0.999     0.998     0.999      9053\n",
      "         4.0      1.000     1.000     1.000      9002\n",
      "         5.0      0.999     1.000     0.999      8967\n",
      "\n",
      "    accuracy                          1.000     54000\n",
      "   macro avg      1.000     1.000     1.000     54000\n",
      "weighted avg      1.000     1.000     1.000     54000\n",
      "\n"
     ]
    }
   ],
   "source": [
    "print(classification_report(ytrain, train_pred, digits=3))"
   ]
  },
  {
   "cell_type": "code",
   "execution_count": 64,
   "id": "ebe2af47",
   "metadata": {},
   "outputs": [],
   "source": [
    "test_pred = np.argmax(cnnModel.predict(Xtest), axis=1)"
   ]
  },
  {
   "cell_type": "code",
   "execution_count": 116,
   "id": "0a09ebfc",
   "metadata": {},
   "outputs": [
    {
     "name": "stdout",
     "output_type": "stream",
     "text": [
      "              precision    recall  f1-score   support\n",
      "\n",
      "         0.0      1.000     1.000     1.000      2969\n",
      "         1.0      0.999     1.000     0.999      3085\n",
      "         2.0      1.000     1.000     1.000      2968\n",
      "         3.0      0.997     0.992     0.994      2947\n",
      "         4.0      0.996     0.998     0.997      2998\n",
      "         5.0      0.995     0.996     0.995      3033\n",
      "\n",
      "    accuracy                          0.998     18000\n",
      "   macro avg      0.998     0.998     0.998     18000\n",
      "weighted avg      0.998     0.998     0.998     18000\n",
      "\n"
     ]
    }
   ],
   "source": [
    "print(classification_report(ytest, test_pred, digits=3))"
   ]
  },
  {
   "cell_type": "code",
   "execution_count": null,
   "id": "f5938592",
   "metadata": {},
   "outputs": [],
   "source": []
  },
  {
   "cell_type": "code",
   "execution_count": 66,
   "id": "4084db17",
   "metadata": {},
   "outputs": [
    {
     "data": {
      "text/plain": [
       "array([[9031,    0,    0,    0,    0,    0],\n",
       "       [   0, 8915,    0,    0,    0,    0],\n",
       "       [   0,    0, 9032,    0,    0,    0],\n",
       "       [   0,    4,    0, 9038,    3,    8],\n",
       "       [   0,    0,    0,    3, 8999,    0],\n",
       "       [   0,    0,    0,    3,    1, 8963]], dtype=int64)"
      ]
     },
     "execution_count": 66,
     "metadata": {},
     "output_type": "execute_result"
    }
   ],
   "source": [
    "confusion_matrix(ytrain, train_pred)"
   ]
  },
  {
   "cell_type": "code",
   "execution_count": 67,
   "id": "3ba4e117",
   "metadata": {},
   "outputs": [
    {
     "data": {
      "text/plain": [
       "array([[2969,    0,    0,    0,    0,    0],\n",
       "       [   0, 3085,    0,    0,    0,    0],\n",
       "       [   0,    0, 2968,    0,    0,    0],\n",
       "       [   0,    4,    0, 2922,    5,   16],\n",
       "       [   0,    0,    0,    5, 2993,    0],\n",
       "       [   0,    0,    0,    5,    7, 3021]], dtype=int64)"
      ]
     },
     "execution_count": 67,
     "metadata": {},
     "output_type": "execute_result"
    }
   ],
   "source": [
    "confusion_matrix(ytest, test_pred)"
   ]
  },
  {
   "cell_type": "code",
   "execution_count": null,
   "id": "6d7e1655",
   "metadata": {},
   "outputs": [],
   "source": []
  },
  {
   "cell_type": "markdown",
   "id": "975f881a",
   "metadata": {},
   "source": [
    "## Predicting images to be uploaded"
   ]
  },
  {
   "cell_type": "code",
   "execution_count": 122,
   "id": "e1a1b28a",
   "metadata": {},
   "outputs": [],
   "source": [
    "# Run this code\n",
    "\n",
    "cnnModel = load_model(\"cnnModel.h5\")"
   ]
  },
  {
   "cell_type": "code",
   "execution_count": 227,
   "id": "0bc84f42",
   "metadata": {},
   "outputs": [],
   "source": [
    "# This is the code for saving the files you will not need this.\n",
    "\n",
    "class_labels = ['color', 'cut', 'good', 'hole', 'metal_contamination', 'thread']\n",
    "\n",
    "for label in class_labels:\n",
    "    \n",
    "    cv2.imwrite(f'{label} image.png', f[label]['angle0'][0, 0, :, :][()]*255)"
   ]
  },
  {
   "cell_type": "code",
   "execution_count": 228,
   "id": "78c34ce3",
   "metadata": {},
   "outputs": [
    {
     "data": {
      "text/plain": [
       "array([[ 39,  38,  39, ...,  76,  93, 108],\n",
       "       [ 39,  40,  41, ...,  85,  98, 109],\n",
       "       [ 42,  43,  42, ...,  86, 100, 110],\n",
       "       ...,\n",
       "       [ 79,  83,  85, ..., 122, 114, 103],\n",
       "       [ 63,  69,  74, ..., 110, 104, 101],\n",
       "       [ 49,  51,  57, ...,  96,  96, 102]], dtype=uint8)"
      ]
     },
     "execution_count": 228,
     "metadata": {},
     "output_type": "execute_result"
    }
   ],
   "source": [
    "# Store the image data in uploaded_image\n",
    "uploaded_image = cv2.imread(r'metal_contamination image.png', cv2.IMREAD_GRAYSCALE)\n",
    "\n",
    "uploaded_image"
   ]
  },
  {
   "cell_type": "code",
   "execution_count": 229,
   "id": "93e90fa4",
   "metadata": {},
   "outputs": [],
   "source": [
    "# Get the data in the correct format for the ML model\n",
    "uploaded_image = uploaded_image/255"
   ]
  },
  {
   "cell_type": "code",
   "execution_count": 230,
   "id": "06637770",
   "metadata": {},
   "outputs": [
    {
     "data": {
      "text/plain": [
       "<matplotlib.image.AxesImage at 0x2763c6cd400>"
      ]
     },
     "execution_count": 230,
     "metadata": {},
     "output_type": "execute_result"
    },
    {
     "data": {
      "image/png": "[encoded data removed]",
      "text/plain": [
       "<Figure size 432x288 with 1 Axes>"
      ]
     },
     "metadata": {
      "needs_background": "light"
     },
     "output_type": "display_data"
    }
   ],
   "source": [
    "plt.imshow(uploaded_image, cmap='gray')"
   ]
  },
  {
   "cell_type": "code",
   "execution_count": 235,
   "id": "4af7d23b",
   "metadata": {},
   "outputs": [
    {
     "data": {
      "text/plain": [
       "array([[4.5264073e-08, 6.9970191e-03, 1.7948156e-05, 4.5365957e-07,\n",
       "        9.9295545e-01, 2.9030612e-05]], dtype=float32)"
      ]
     },
     "execution_count": 235,
     "metadata": {},
     "output_type": "execute_result"
    }
   ],
   "source": [
    "# Use this code for outputting probabilities of each class\n",
    "\n",
    "cnnModel.predict(uploaded_image[np.newaxis, :, :, np.newaxis])"
   ]
  },
  {
   "cell_type": "code",
   "execution_count": 234,
   "id": "7c7dda85",
   "metadata": {},
   "outputs": [
    {
     "data": {
      "text/plain": [
       "'metal_contamination'"
      ]
     },
     "execution_count": 234,
     "metadata": {},
     "output_type": "execute_result"
    }
   ],
   "source": [
    "# This is the predicted class\n",
    "\n",
    "class_labels[np.argmax(cnnModel.predict(uploaded_image[np.newaxis, :, :, np.newaxis]))]"
   ]
  },
  {
   "cell_type": "markdown",
   "id": "d6bd8198",
   "metadata": {},
   "source": [
    "## Ignore the code below"
   ]
  },
  {
   "cell_type": "code",
   "execution_count": 52,
   "id": "91302f97",
   "metadata": {},
   "outputs": [],
   "source": [
    "# Figure out error\n",
    "\n",
    "#train_pred = class_labels[ np.argmax(cnnModel.predict(Xtrain), axis=1) ]"
   ]
  },
  {
   "cell_type": "code",
   "execution_count": 79,
   "id": "cb6c5ac7",
   "metadata": {},
   "outputs": [
    {
     "data": {
      "text/plain": [
       "'D:\\\\Computer Vision'"
      ]
     },
     "execution_count": 79,
     "metadata": {},
     "output_type": "execute_result"
    }
   ],
   "source": [
    "script_dir = os.path.dirname(r'D:\\Computer Vision\\CNN Model V2')\n",
    "results_dir = os.path.join(script_dir, 'Results/')\n",
    "\n",
    "\n",
    "sample_file_name = \"sample\"\n",
    "\n",
    "if not os.path.isdir(results_dir):\n",
    "    os.makedirs(results_dir)\n",
    "\n",
    "plt.plot([1,2,3,4])\n",
    "plt.ylabel('some numbers')\n",
    "plt.savefig(results_dir + sample_file_name)\n",
    "\n",
    "#plt.imshow(f['color']['angle0'][0, 0, :, :], cmap = 'gray')\n",
    "#plt.imsave(f'image_data/color/angle0/0.png', f['color']['angle0'][0, 0, :, :], cmap = 'gray')"
   ]
  },
  {
   "cell_type": "code",
   "execution_count": null,
   "id": "6f1320c7",
   "metadata": {},
   "outputs": [],
   "source": [
    "class_labels = ['color', 'cut', 'good', 'hole', 'metal_contamination', 'thread']\n",
    "\n",
    "angles = ['angle0', 'angle100', 'angle120', 'angle140', 'angle20', 'angle40', 'angle60', 'angle80']\n",
    "\n",
    "for label in class_labels:    \n",
    "    for angle in angles:\n",
    "        f[label][angle][()]\n"
   ]
  }
 ],
 "metadata": {
  "kernelspec": {
   "display_name": "Python 3",
   "language": "python",
   "name": "python3"
  },
  "language_info": {
   "codemirror_mode": {
    "name": "ipython",
    "version": 3
   },
   "file_extension": ".py",
   "mimetype": "text/x-python",
   "name": "python",
   "nbconvert_exporter": "python",
   "pygments_lexer": "ipython3",
   "version": "3.8.8"
  }
 },
 "nbformat": 4,
 "nbformat_minor": 5
}
